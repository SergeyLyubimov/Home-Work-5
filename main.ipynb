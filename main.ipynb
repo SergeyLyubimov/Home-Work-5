{
 "cells": [
  {
   "cell_type": "markdown",
   "id": "e36d1fa0-0da4-49b3-b42e-df632e25ea41",
   "metadata": {},
   "source": [
    "# Задание 1\n",
    "Печатные газеты использовали свой формат дат для каждого выпуска. Для каждой газеты из списка напишите формат указанной даты для перевода в объект datetime:\n",
    "\n",
    "The Moscow Times — Wednesday, October 2, 2002\n",
    "\n",
    "The Guardian — Friday, 11.10.13\n",
    "\n",
    "Daily News — Thursday, 18 August 1977"
   ]
  },
  {
   "cell_type": "code",
   "execution_count": 1,
   "id": "e4fb7b5b-5845-4fc0-a632-cdf0024c72df",
   "metadata": {},
   "outputs": [],
   "source": [
    "from datetime import datetime"
   ]
  },
  {
   "cell_type": "code",
   "execution_count": 2,
   "id": "4f674fbc-32e9-4922-83f0-5e0389c213ba",
   "metadata": {},
   "outputs": [],
   "source": [
    "def moscow_times(string):\n",
    "    try:\n",
    "        print(datetime.strptime(string, '%A, %B %d, %Y'))\n",
    "    except:\n",
    "        return"
   ]
  },
  {
   "cell_type": "code",
   "execution_count": 3,
   "id": "8c46b1c0-05cc-4b36-acc8-26cda56491f5",
   "metadata": {},
   "outputs": [],
   "source": [
    "def guardian(string):\n",
    "    try:\n",
    "        print(datetime.strptime(string, '%A, %d.%m.%y'))\n",
    "    except:\n",
    "        return"
   ]
  },
  {
   "cell_type": "code",
   "execution_count": 4,
   "id": "7042b7a3-5df1-43bb-9779-4205b4e360b2",
   "metadata": {},
   "outputs": [],
   "source": [
    "def daily_news(string):\n",
    "    try:\n",
    "        print(datetime.strptime(string, '%A, %d %B %Y'))\n",
    "    except:\n",
    "        return"
   ]
  },
  {
   "cell_type": "code",
   "execution_count": 5,
   "id": "a9f1e11d-2a0c-430e-91cf-e016be17f9d3",
   "metadata": {},
   "outputs": [],
   "source": [
    "def main_loop():\n",
    "    while True:\n",
    "        string = input(\"Введите дату, или exit для выхода из программы: \")\n",
    "        if string == 'exit':\n",
    "            return\n",
    "        moscow_times(string)\n",
    "        guardian(string)\n",
    "        daily_news(string)"
   ]
  },
  {
   "cell_type": "code",
   "execution_count": 6,
   "id": "cb021d00-3e89-414e-b099-f29508f15fcb",
   "metadata": {},
   "outputs": [
    {
     "name": "stdin",
     "output_type": "stream",
     "text": [
      "Введите дату, или exit для выхода из программы:  Wednesday, October 2, 2002\n"
     ]
    },
    {
     "name": "stdout",
     "output_type": "stream",
     "text": [
      "2002-10-02 00:00:00\n"
     ]
    },
    {
     "name": "stdin",
     "output_type": "stream",
     "text": [
      "Введите дату, или exit для выхода из программы:  Friday, 11.10.13\n"
     ]
    },
    {
     "name": "stdout",
     "output_type": "stream",
     "text": [
      "2013-10-11 00:00:00\n"
     ]
    },
    {
     "name": "stdin",
     "output_type": "stream",
     "text": [
      "Введите дату, или exit для выхода из программы:  Thursday, 18 August 1977\n"
     ]
    },
    {
     "name": "stdout",
     "output_type": "stream",
     "text": [
      "1977-08-18 00:00:00\n"
     ]
    },
    {
     "name": "stdin",
     "output_type": "stream",
     "text": [
      "Введите дату, или exit для выхода из программы:  exit\n"
     ]
    }
   ],
   "source": [
    "main_loop()"
   ]
  }
 ],
 "metadata": {
  "kernelspec": {
   "display_name": "Python 3 (ipykernel)",
   "language": "python",
   "name": "python3"
  },
  "language_info": {
   "codemirror_mode": {
    "name": "ipython",
    "version": 3
   },
   "file_extension": ".py",
   "mimetype": "text/x-python",
   "name": "python",
   "nbconvert_exporter": "python",
   "pygments_lexer": "ipython3",
   "version": "3.12.7"
  }
 },
 "nbformat": 4,
 "nbformat_minor": 5
}
